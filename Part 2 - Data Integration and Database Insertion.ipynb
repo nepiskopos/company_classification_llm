{
 "cells": [
  {
   "cell_type": "markdown",
   "id": "8f04d6a9-2855-4e1c-ab29-fc617e2abd8f",
   "metadata": {},
   "source": [
    "# Part 2 -- Data Integration and Database Insertion"
   ]
  },
  {
   "cell_type": "code",
   "execution_count": 1,
   "id": "6cf7ee92-d7d3-462f-863c-1ee1bc39ce3c",
   "metadata": {},
   "outputs": [],
   "source": [
    "import os\n",
    "import pandas as pd\n",
    "import sqlite3"
   ]
  },
  {
   "cell_type": "code",
   "execution_count": 2,
   "id": "2d12339d-79c6-4f28-97a5-c30cf4a6a680",
   "metadata": {},
   "outputs": [],
   "source": [
    "con = sqlite3.connect(os.path.join('data', 'combined_data.db'))\n",
    "cur = con.cursor()"
   ]
  },
  {
   "cell_type": "code",
   "execution_count": 3,
   "id": "82c073ba-9353-44dc-b1d8-1c32971eba87",
   "metadata": {},
   "outputs": [
    {
     "name": "stdout",
     "output_type": "stream",
     "text": [
      "('table', 'CompanyClassification', 'CompanyClassification', 2, 'CREATE TABLE \"CompanyClassification\" (\\n\"Category\" TEXT,\\n  \"Website\" TEXT,\\n  \"CompanyName\" TEXT,\\n  \"homepage_text\" TEXT,\\n  \"h1\" TEXT,\\n  \"h2\" TEXT,\\n  \"h3\" TEXT,\\n  \"nav_link_text\" TEXT,\\n  \"meta_keywords\" TEXT,\\n  \"meta_description\" TEXT\\n)')\n",
      "('table', 'CompanyDataset', 'CompanyDataset', 110723, 'CREATE TABLE \"CompanyDataset\" (\\n\"Unnamed: 0\" INTEGER,\\n  \"CompanyName\" TEXT,\\n  \"Website\" TEXT,\\n  \"year founded\" REAL,\\n  \"industry\" TEXT,\\n  \"size range\" TEXT,\\n  \"locality\" TEXT,\\n  \"country\" TEXT,\\n  \"linkedin url\" TEXT,\\n  \"current employee estimate\" INTEGER,\\n  \"total employee estimate\" INTEGER\\n)')\n",
      "('index', 'employees', 'CompanyDataset', 416224, 'CREATE INDEX employees ON CompanyDataset (`current employee estimate`)')\n",
      "('index', 'countries', 'CompanyDataset', 409796, 'CREATE INDEX countries ON CompanyDataset (`country`)')\n",
      "('table', 'Company', 'Company', 397909, 'CREATE TABLE \"Company\" (\\n\"Unnamed: 0\" INTEGER,\\n  \"CompanyName\" TEXT,\\n  \"Website\" TEXT,\\n  \"year founded\" REAL,\\n  \"industry\" TEXT,\\n  \"size range\" TEXT,\\n  \"locality\" TEXT,\\n  \"country\" TEXT,\\n  \"linkedin url\" TEXT,\\n  \"current employee estimate\" INTEGER,\\n  \"total employee estimate\" INTEGER,\\n  \"Category\" TEXT,\\n  \"homepage_text\" TEXT,\\n  \"h1\" TEXT,\\n  \"h2\" TEXT,\\n  \"h3\" TEXT,\\n  \"nav_link_text\" TEXT,\\n  \"meta_keywords\" TEXT,\\n  \"meta_description\" TEXT\\n)')\n"
     ]
    }
   ],
   "source": [
    "res = cur.execute(\"\"\"\n",
    "    SELECT * FROM sqlite_master\n",
    "\"\"\")\n",
    "\n",
    "for c in cur.fetchall():\n",
    "    print(c)"
   ]
  },
  {
   "cell_type": "markdown",
   "id": "e6b5581b-cc76-4d83-bc6b-67e53365a913",
   "metadata": {},
   "source": [
    "## Method 1: Create a View to merge Tables"
   ]
  },
  {
   "cell_type": "code",
   "execution_count": 4,
   "id": "736442f1-6014-4601-a039-6b7bab5fc800",
   "metadata": {},
   "outputs": [],
   "source": [
    "cur.execute(\"\"\"\n",
    "    DROP TABLE IF EXISTS Company;\n",
    "\"\"\")\n",
    "\n",
    "con.commit()"
   ]
  },
  {
   "cell_type": "code",
   "execution_count": 5,
   "id": "8de745e5-692b-4690-a95a-f0c0bda68aa4",
   "metadata": {},
   "outputs": [],
   "source": [
    "cur.execute(\"\"\"\n",
    "    DROP VIEW IF EXISTS Company;\n",
    "\"\"\")\n",
    "\n",
    "con.commit()"
   ]
  },
  {
   "cell_type": "code",
   "execution_count": 6,
   "id": "c827d126-3af4-461d-9f1d-fde5ff288339",
   "metadata": {},
   "outputs": [],
   "source": [
    "cur.execute(\"\"\"\n",
    "    CREATE VIEW Company\n",
    "    AS SELECT * FROM CompanyDataset\n",
    "    LEFT JOIN CompanyClassification\n",
    "    ON CompanyDataset.CompanyName = CompanyClassification.CompanyName\n",
    "\"\"\")\n",
    "\n",
    "con.commit()"
   ]
  },
  {
   "cell_type": "markdown",
   "id": "2839cb7d-9f2a-401f-9f7b-1e7c3bf05118",
   "metadata": {},
   "source": [
    "## Method 2: Use Pandas to merge Tables as DataFrames"
   ]
  },
  {
   "cell_type": "code",
   "execution_count": 7,
   "id": "31a77902-fc7e-4ed7-8d8f-4f72950f06ec",
   "metadata": {},
   "outputs": [
    {
     "name": "stdout",
     "output_type": "stream",
     "text": [
      "Total rows in the CompanyDataset table: 7173426\n",
      "\n",
      "Rows with missing values:\n"
     ]
    },
    {
     "data": {
      "text/plain": [
       "Unnamed: 0                         0\n",
       "CompanyName                        3\n",
       "Website                      1650621\n",
       "year founded                 3606980\n",
       "industry                      290003\n",
       "size range                         0\n",
       "locality                     2508825\n",
       "country                      2349207\n",
       "linkedin url                       0\n",
       "current employee estimate          0\n",
       "total employee estimate            0\n",
       "dtype: int64"
      ]
     },
     "metadata": {},
     "output_type": "display_data"
    }
   ],
   "source": [
    "CompanyDataset = pd.read_sql_query(\"SELECT * FROM CompanyDataset\", con)\n",
    "\n",
    "print('Total rows in the CompanyDataset table:', len(CompanyDataset))\n",
    "print()\n",
    "print('Rows with missing values:')\n",
    "\n",
    "display(CompanyDataset.isna().sum())"
   ]
  },
  {
   "cell_type": "code",
   "execution_count": 8,
   "id": "58eab546-4d43-447d-b5d6-04af304df6f5",
   "metadata": {},
   "outputs": [
    {
     "name": "stdout",
     "output_type": "stream",
     "text": [
      "Total rows in the CompanyClassification table: 73974\n",
      "\n",
      "Rows with missing values:\n"
     ]
    },
    {
     "data": {
      "text/plain": [
       "Category                0\n",
       "Website                 0\n",
       "CompanyName             0\n",
       "homepage_text         669\n",
       "h1                  27321\n",
       "h2                  20762\n",
       "h3                  29315\n",
       "nav_link_text       25924\n",
       "meta_keywords       50302\n",
       "meta_description     7088\n",
       "dtype: int64"
      ]
     },
     "metadata": {},
     "output_type": "display_data"
    }
   ],
   "source": [
    "CompanyClassification = pd.read_sql_query(\"SELECT * FROM CompanyClassification\", con)\n",
    "\n",
    "print('Total rows in the CompanyClassification table:', len(CompanyClassification))\n",
    "print()\n",
    "print('Rows with missing values:')\n",
    "\n",
    "display(CompanyClassification.isna().sum())"
   ]
  },
  {
   "cell_type": "code",
   "execution_count": 9,
   "id": "df6c8954-25f5-4db8-b490-fb35b2d66670",
   "metadata": {},
   "outputs": [],
   "source": [
    "CompanyDataset_columns = CompanyDataset.columns\n",
    "CompanyClassification_columns = CompanyClassification.columns\n",
    "\n",
    "common_columns = list(set(CompanyDataset_columns).intersection(set(CompanyClassification_columns)))"
   ]
  },
  {
   "cell_type": "code",
   "execution_count": 10,
   "id": "3cc213b5-df29-4088-96ea-7d68fb9a07f4",
   "metadata": {},
   "outputs": [],
   "source": [
    "CompanyDataset = CompanyDataset.dropna(subset=common_columns)\n",
    "CompanyClassification = CompanyClassification.dropna(subset=common_columns)"
   ]
  },
  {
   "cell_type": "code",
   "execution_count": 11,
   "id": "c3e36acf-5bef-4ab0-8af8-8fef9092dd2f",
   "metadata": {},
   "outputs": [
    {
     "name": "stdout",
     "output_type": "stream",
     "text": [
      "Total rows in the merged \"Company\" table: 5522803\n",
      "\n",
      "Rows with missing values:\n"
     ]
    },
    {
     "data": {
      "text/plain": [
       "Unnamed: 0                         0\n",
       "CompanyName                        0\n",
       "Website                            0\n",
       "year founded                 2175920\n",
       "industry                      112775\n",
       "size range                         0\n",
       "locality                     1693997\n",
       "country                      1566173\n",
       "linkedin url                       0\n",
       "current employee estimate          0\n",
       "total employee estimate            0\n",
       "Category                     5449355\n",
       "homepage_text                5450023\n",
       "h1                           5476420\n",
       "h2                           5469988\n",
       "h3                           5478389\n",
       "nav_link_text                5475006\n",
       "meta_keywords                5499219\n",
       "meta_description             5456364\n",
       "dtype: int64"
      ]
     },
     "metadata": {},
     "output_type": "display_data"
    }
   ],
   "source": [
    "Company = pd.merge(CompanyDataset, CompanyClassification, on=common_columns, how='left')\n",
    "\n",
    "print('Total rows in the merged \"Company\" table:', len(Company))\n",
    "print()\n",
    "print('Rows with missing values:')\n",
    "\n",
    "display(Company.isna().sum())"
   ]
  },
  {
   "cell_type": "code",
   "execution_count": 12,
   "id": "753aeb72-9be8-4795-b455-53bac6a84b93",
   "metadata": {},
   "outputs": [],
   "source": [
    "cur.execute(\"\"\"\n",
    "    DROP VIEW IF EXISTS Company;\n",
    "\"\"\")\n",
    "\n",
    "con.commit()"
   ]
  },
  {
   "cell_type": "code",
   "execution_count": 13,
   "id": "2b7191e3-41ad-46a0-b677-80c9f58e5041",
   "metadata": {},
   "outputs": [],
   "source": [
    "cur.execute(\"\"\"\n",
    "    DROP TABLE IF EXISTS Company;\n",
    "\"\"\")\n",
    "\n",
    "con.commit()"
   ]
  },
  {
   "cell_type": "code",
   "execution_count": 14,
   "id": "b9cdd7b8-96ed-4704-a83c-1e7150c58842",
   "metadata": {},
   "outputs": [
    {
     "data": {
      "text/plain": [
       "5522803"
      ]
     },
     "execution_count": 14,
     "metadata": {},
     "output_type": "execute_result"
    }
   ],
   "source": [
    "Company.to_sql(name='Company', con=con, schema='Tables', if_exists='replace', index=False)"
   ]
  },
  {
   "cell_type": "markdown",
   "id": "d3deeffd-0696-4431-a116-a40c5952d51e",
   "metadata": {},
   "source": [
    "## Verify result"
   ]
  },
  {
   "cell_type": "code",
   "execution_count": 15,
   "id": "c7d2c969-bfba-41bd-aeaa-231fce6ddfd1",
   "metadata": {},
   "outputs": [
    {
     "name": "stdout",
     "output_type": "stream",
     "text": [
      "('!bien ict', 'information technology and services', 3, None)\n",
      "('!qcl solutions', 'information technology and services', 12, None)\n",
      "('\"40-02\" search advertisement agency', 'information technology and services', 8, None)\n",
      "('\"abideweb technologies\" llc', 'information technology and services', 0, None)\n",
      "('\"acorn systems\"\\u200b s.r.o.', 'information technology and services', 1, None)\n",
      "('\"apply\" intelligent technologies', 'information technology and services', 10, None)\n",
      "('\"arte\" azerbaijan gps vehicle tracking systems', 'information technology and services', 0, None)\n",
      "('\"ato id\", uab', 'nanotechnology', 1, None)\n",
      "('\"atom\"\\u200b web design company', 'information technology and services', 0, None)\n",
      "('\"august ir ko\" uab', 'biotechnology', 4, None)\n"
     ]
    }
   ],
   "source": [
    "cur.execute(\"\"\"\n",
    "    SELECT DISTINCT CompanyName, industry, `current employee estimate`, homepage_text\n",
    "    FROM Company\n",
    "    WHERE industry LIKE \"%Technology%\" AND \n",
    "          `current employee estimate` < 100 AND \n",
    "          TRIM(homepage_text, ' ') IS NULL\n",
    "    ORDER BY CompanyName\n",
    "    LIMIT 10;\n",
    "\"\"\")\n",
    "\n",
    "for c in cur.fetchall():\n",
    "    print(c)"
   ]
  },
  {
   "cell_type": "markdown",
   "id": "6df1a111-8bc8-4e16-ac40-60cad6b007ac",
   "metadata": {},
   "source": [
    "## Finalize"
   ]
  },
  {
   "cell_type": "code",
   "execution_count": 16,
   "id": "03b15923-fc5d-43b0-8a50-fd2180b7df1d",
   "metadata": {},
   "outputs": [],
   "source": [
    "cur.close()\n",
    "con.close()"
   ]
  }
 ],
 "metadata": {
  "kernelspec": {
   "display_name": "Python 3 (ipykernel)",
   "language": "python",
   "name": "python3"
  },
  "language_info": {
   "codemirror_mode": {
    "name": "ipython",
    "version": 3
   },
   "file_extension": ".py",
   "mimetype": "text/x-python",
   "name": "python",
   "nbconvert_exporter": "python",
   "pygments_lexer": "ipython3",
   "version": "3.10.15"
  }
 },
 "nbformat": 4,
 "nbformat_minor": 5
}
